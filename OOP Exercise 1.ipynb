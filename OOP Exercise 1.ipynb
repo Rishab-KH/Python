{
 "cells": [
  {
   "cell_type": "code",
   "execution_count": 2,
   "metadata": {},
   "outputs": [],
   "source": [
    "class Line:\n",
    "    def __init__(self, coor1, coor2):\n",
    "        self.x1 = coor1[0]\n",
    "        self.y1 = coor1[1]\n",
    "        self.x2 = coor2[0]\n",
    "        self.y2 = coor2[1]\n",
    "    def distance(self):\n",
    "        y = self.y2 - self.y1\n",
    "        x = self.x2 - self.x1\n",
    "        y = y ** 2\n",
    "        x = x ** 2\n",
    "        res = y + x\n",
    "        return pow(res, 0.5)\n",
    "    def slope(self):\n",
    "        y = self.y2 - self.y1\n",
    "        x = self.x2 - self.x1\n",
    "        return (y/x)"
   ]
  },
  {
   "cell_type": "code",
   "execution_count": 3,
   "metadata": {},
   "outputs": [],
   "source": [
    "coordinate1 = (3,2)\n",
    "coordinate2 = (8,10)\n",
    "\n",
    "li = Line(coordinate1,coordinate2)"
   ]
  },
  {
   "cell_type": "code",
   "execution_count": 6,
   "metadata": {},
   "outputs": [
    {
     "name": "stdout",
     "output_type": "stream",
     "text": [
      "The Distance Between Two Points: 9.434\n"
     ]
    }
   ],
   "source": [
    "print(\"The Distance Between Two Points: {res:0.3f}\".format(res = li.distance()))"
   ]
  },
  {
   "cell_type": "code",
   "execution_count": 7,
   "metadata": {},
   "outputs": [
    {
     "name": "stdout",
     "output_type": "stream",
     "text": [
      "The Slope Between Two Points: 1.600\n"
     ]
    }
   ],
   "source": [
    "print(\"The Slope Between Two Points: {res:0.3f}\".format(res = li.slope()))"
   ]
  },
  {
   "cell_type": "code",
   "execution_count": null,
   "metadata": {},
   "outputs": [],
   "source": []
  },
  {
   "cell_type": "code",
   "execution_count": 32,
   "metadata": {},
   "outputs": [],
   "source": [
    "class Cylinder:\n",
    "    pi = (22/7)\n",
    "    def __init__(self, radius, height):\n",
    "        self.r = radius\n",
    "        self.h = height\n",
    "    \n",
    "    def Volume(self):\n",
    "        return Cylinder.pi*(self.r ** 2)*self.h\n",
    "    \n",
    "    def SurfaceArea(self):\n",
    "        Surface_Area =  2*Cylinder.pi*self.r*(self.r + self.h)\n",
    "        return Surface_Area"
   ]
  },
  {
   "cell_type": "code",
   "execution_count": 33,
   "metadata": {},
   "outputs": [],
   "source": [
    "c = Cylinder(3, 2)"
   ]
  },
  {
   "cell_type": "code",
   "execution_count": 36,
   "metadata": {},
   "outputs": [
    {
     "name": "stdout",
     "output_type": "stream",
     "text": [
      "The Volume Of The Cylinder is 56.57\n",
      "The Surface Area Of The Cylinder is  94.29\n"
     ]
    }
   ],
   "source": [
    "print(\"The Volume Of The Cylinder is {res:0.2f}\".format(res = c.Volume()))\n",
    "print(\"The Surface Area Of The Cylinder is {res: 0.2f}\".format(res = c.SurfaceArea()))"
   ]
  },
  {
   "cell_type": "code",
   "execution_count": null,
   "metadata": {},
   "outputs": [],
   "source": []
  }
 ],
 "metadata": {
  "kernelspec": {
   "display_name": "Python 3",
   "language": "python",
   "name": "python3"
  },
  "language_info": {
   "codemirror_mode": {
    "name": "ipython",
    "version": 3
   },
   "file_extension": ".py",
   "mimetype": "text/x-python",
   "name": "python",
   "nbconvert_exporter": "python",
   "pygments_lexer": "ipython3",
   "version": "3.7.4"
  }
 },
 "nbformat": 4,
 "nbformat_minor": 2
}
