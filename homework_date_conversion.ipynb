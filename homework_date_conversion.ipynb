{
 "cells": [
  {
   "cell_type": "code",
   "execution_count": 1,
   "metadata": {},
   "outputs": [
    {
     "name": "stdout",
     "output_type": "stream",
     "text": [
      "Enter Date: DD/MM/YYYY: 21/09/1999\n",
      "21st Sept, 1999\n"
     ]
    }
   ],
   "source": [
    "months = ['Jan', 'Feb', 'March', 'April', 'May', 'June', 'July', 'Aug', 'Sept', 'Oct', 'Nov','Dec']\n",
    "\n",
    "endings = ['st', 'nd', 'rd'] + ['th'] * 17 \\\n",
    "          +['st', 'nd', 'rd'] + ['th'] * 7 + ['st']\n",
    "\n",
    "date = input(\"Enter Date: DD/MM/YYYY: \")\n",
    "month = date[3:5]\n",
    "\n",
    "if month[0] == '0':\n",
    "    month = month[1]\n",
    "else:\n",
    "    month = month[0:2]\n",
    "    \n",
    "strdate = date[0:2]\n",
    "if strdate[0] == '0':\n",
    "    strdate = strdate[1]\n",
    "else:\n",
    "    strdate = strdate[0:2]\n",
    "\n",
    "month = int(month)\n",
    "my_date = int(strdate)\n",
    "my_month = months[month - 1]\n",
    "my_suffix = endings[my_date - 1]\n",
    "my_year = date[6:]\n",
    "\n",
    "print(\"{}{} {}, {}\".format(my_date, my_suffix, my_month, my_year))"
   ]
  },
  {
   "cell_type": "code",
   "execution_count": null,
   "metadata": {},
   "outputs": [],
   "source": []
  }
 ],
 "metadata": {
  "kernelspec": {
   "display_name": "Python 3",
   "language": "python",
   "name": "python3"
  },
  "language_info": {
   "codemirror_mode": {
    "name": "ipython",
    "version": 3
   },
   "file_extension": ".py",
   "mimetype": "text/x-python",
   "name": "python",
   "nbconvert_exporter": "python",
   "pygments_lexer": "ipython3",
   "version": "3.7.4"
  }
 },
 "nbformat": 4,
 "nbformat_minor": 2
}
